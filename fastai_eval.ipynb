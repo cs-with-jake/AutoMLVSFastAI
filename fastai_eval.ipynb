{
 "cells": [
  {
   "cell_type": "code",
   "execution_count": 1,
   "id": "46feb03d-6dd7-407a-ad75-54d7ca603c62",
   "metadata": {},
   "outputs": [],
   "source": [
    "from fastai.vision.all import *\n",
    "import torch"
   ]
  },
  {
   "cell_type": "code",
   "execution_count": 2,
   "id": "353e71f6-67b0-406d-8811-d55aeb8451cd",
   "metadata": {},
   "outputs": [],
   "source": [
    "dls = ImageDataLoaders.from_csv(path='.', csv_fname='train_files.csv', valid_pct=0.1)"
   ]
  },
  {
   "cell_type": "code",
   "execution_count": 3,
   "id": "90b0c452-601c-43bb-8a1e-70da0940e8ac",
   "metadata": {},
   "outputs": [],
   "source": [
    "learn = cnn_learner(dls, resnet50, pretrained=False, metrics=accuracy, cbs=ShowGraphCallback())"
   ]
  },
  {
   "cell_type": "code",
   "execution_count": 4,
   "id": "9d7c59c3-5544-4437-9b59-b38b54d26ff3",
   "metadata": {},
   "outputs": [
    {
     "data": {
      "text/html": [],
      "text/plain": [
       "<IPython.core.display.HTML object>"
      ]
     },
     "metadata": {},
     "output_type": "display_data"
    },
    {
     "data": {
      "text/plain": [
       "0.0030199517495930195"
      ]
     },
     "execution_count": 4,
     "metadata": {},
     "output_type": "execute_result"
    },
    {
     "data": {
      "image/png": "[encoded data removed]",
      "text/plain": [
       "<Figure size 432x288 with 1 Axes>"
      ]
     },
     "metadata": {
      "needs_background": "light"
     },
     "output_type": "display_data"
    }
   ],
   "source": [
    "lr = learn.lr_find()\n",
    "lr = lr[0]\n",
    "lr"
   ]
  },
  {
   "cell_type": "code",
   "execution_count": 5,
   "id": "1d81a4b0-41e5-4361-af9b-4289d84559fe",
   "metadata": {},
   "outputs": [
    {
     "data": {
      "text/html": [
       "<table border=\"1\" class=\"dataframe\">\n",
       "  <thead>\n",
       "    <tr style=\"text-align: left;\">\n",
       "      <th>epoch</th>\n",
       "      <th>train_loss</th>\n",
       "      <th>valid_loss</th>\n",
       "      <th>accuracy</th>\n",
       "      <th>time</th>\n",
       "    </tr>\n",
       "  </thead>\n",
       "  <tbody>\n",
       "    <tr>\n",
       "      <td>0</td>\n",
       "      <td>0.501395</td>\n",
       "      <td>0.464341</td>\n",
       "      <td>0.844667</td>\n",
       "      <td>01:08</td>\n",
       "    </tr>\n",
       "    <tr>\n",
       "      <td>1</td>\n",
       "      <td>0.423913</td>\n",
       "      <td>0.410890</td>\n",
       "      <td>0.853333</td>\n",
       "      <td>01:09</td>\n",
       "    </tr>\n",
       "    <tr>\n",
       "      <td>2</td>\n",
       "      <td>0.502573</td>\n",
       "      <td>0.422428</td>\n",
       "      <td>0.852333</td>\n",
       "      <td>01:09</td>\n",
       "    </tr>\n",
       "    <tr>\n",
       "      <td>3</td>\n",
       "      <td>0.333579</td>\n",
       "      <td>0.303544</td>\n",
       "      <td>0.887333</td>\n",
       "      <td>01:09</td>\n",
       "    </tr>\n",
       "    <tr>\n",
       "      <td>4</td>\n",
       "      <td>0.313365</td>\n",
       "      <td>0.276152</td>\n",
       "      <td>0.903333</td>\n",
       "      <td>01:08</td>\n",
       "    </tr>\n",
       "    <tr>\n",
       "      <td>5</td>\n",
       "      <td>0.291385</td>\n",
       "      <td>0.277326</td>\n",
       "      <td>0.898667</td>\n",
       "      <td>01:08</td>\n",
       "    </tr>\n",
       "    <tr>\n",
       "      <td>6</td>\n",
       "      <td>0.276998</td>\n",
       "      <td>0.261721</td>\n",
       "      <td>0.902333</td>\n",
       "      <td>01:09</td>\n",
       "    </tr>\n",
       "    <tr>\n",
       "      <td>7</td>\n",
       "      <td>0.241883</td>\n",
       "      <td>0.241242</td>\n",
       "      <td>0.913167</td>\n",
       "      <td>01:09</td>\n",
       "    </tr>\n",
       "    <tr>\n",
       "      <td>8</td>\n",
       "      <td>0.249055</td>\n",
       "      <td>0.245652</td>\n",
       "      <td>0.909667</td>\n",
       "      <td>01:09</td>\n",
       "    </tr>\n",
       "    <tr>\n",
       "      <td>9</td>\n",
       "      <td>0.222177</td>\n",
       "      <td>0.238214</td>\n",
       "      <td>0.915500</td>\n",
       "      <td>01:09</td>\n",
       "    </tr>\n",
       "    <tr>\n",
       "      <td>10</td>\n",
       "      <td>0.221379</td>\n",
       "      <td>0.263697</td>\n",
       "      <td>0.904333</td>\n",
       "      <td>01:09</td>\n",
       "    </tr>\n",
       "    <tr>\n",
       "      <td>11</td>\n",
       "      <td>0.194393</td>\n",
       "      <td>0.286302</td>\n",
       "      <td>0.901500</td>\n",
       "      <td>01:10</td>\n",
       "    </tr>\n",
       "    <tr>\n",
       "      <td>12</td>\n",
       "      <td>0.186431</td>\n",
       "      <td>0.272589</td>\n",
       "      <td>0.906500</td>\n",
       "      <td>01:09</td>\n",
       "    </tr>\n",
       "    <tr>\n",
       "      <td>13</td>\n",
       "      <td>0.109605</td>\n",
       "      <td>0.217903</td>\n",
       "      <td>0.928500</td>\n",
       "      <td>01:10</td>\n",
       "    </tr>\n",
       "    <tr>\n",
       "      <td>14</td>\n",
       "      <td>0.093825</td>\n",
       "      <td>0.215246</td>\n",
       "      <td>0.932333</td>\n",
       "      <td>01:09</td>\n",
       "    </tr>\n",
       "    <tr>\n",
       "      <td>15</td>\n",
       "      <td>0.082091</td>\n",
       "      <td>0.230675</td>\n",
       "      <td>0.930000</td>\n",
       "      <td>01:09</td>\n",
       "    </tr>\n",
       "    <tr>\n",
       "      <td>16</td>\n",
       "      <td>0.071222</td>\n",
       "      <td>0.250689</td>\n",
       "      <td>0.928167</td>\n",
       "      <td>01:09</td>\n",
       "    </tr>\n",
       "    <tr>\n",
       "      <td>17</td>\n",
       "      <td>0.054779</td>\n",
       "      <td>0.271432</td>\n",
       "      <td>0.929000</td>\n",
       "      <td>01:10</td>\n",
       "    </tr>\n",
       "    <tr>\n",
       "      <td>18</td>\n",
       "      <td>0.054968</td>\n",
       "      <td>0.265226</td>\n",
       "      <td>0.929333</td>\n",
       "      <td>01:09</td>\n",
       "    </tr>\n",
       "    <tr>\n",
       "      <td>19</td>\n",
       "      <td>0.039475</td>\n",
       "      <td>0.269858</td>\n",
       "      <td>0.930167</td>\n",
       "      <td>01:09</td>\n",
       "    </tr>\n",
       "  </tbody>\n",
       "</table>"
      ],
      "text/plain": [
       "<IPython.core.display.HTML object>"
      ]
     },
     "metadata": {},
     "output_type": "display_data"
    },
    {
     "data": {
      "image/png": "[encoded data removed]",
      "text/plain": [
       "<Figure size 432x288 with 1 Axes>"
      ]
     },
     "metadata": {},
     "output_type": "display_data"
    },
    {
     "name": "stdout",
     "output_type": "stream",
     "text": [
      "Epoch 12: reducing lr to 0.0003019951749593019\n",
      "Epoch 17: reducing lr to 3.0199517495930192e-05\n",
      "No improvement since epoch 14: early stopping\n"
     ]
    }
   ],
   "source": [
    "learn.fit(\n",
    "    n_epoch=100,\n",
    "    lr=lr,\n",
    "    cbs=[\n",
    "        ReduceLROnPlateau(monitor='valid_loss', min_delta=0.001, patience=3),\n",
    "        EarlyStoppingCallback(monitor='valid_loss', min_delta=0.001, patience=5)\n",
    "    ]\n",
    ")"
   ]
  },
  {
   "cell_type": "code",
   "execution_count": 6,
   "id": "c042895b-2439-4283-a1dc-27e754268872",
   "metadata": {},
   "outputs": [],
   "source": [
    "test_df = pd.read_csv('./test_files.csv')\n",
    "test_files = test_df['LOCAL_FILE_PATH'].values"
   ]
  },
  {
   "cell_type": "code",
   "execution_count": 7,
   "id": "9020cd4d-ce3d-489c-9f70-3c0365e20733",
   "metadata": {},
   "outputs": [],
   "source": [
    "test_dl = dls.test_dl(test_files)"
   ]
  },
  {
   "cell_type": "code",
   "execution_count": 8,
   "id": "bf615a4c-da1c-44da-b6b7-06a889935657",
   "metadata": {},
   "outputs": [
    {
     "data": {
      "text/html": [],
      "text/plain": [
       "<IPython.core.display.HTML object>"
      ]
     },
     "metadata": {},
     "output_type": "display_data"
    }
   ],
   "source": [
    "preds = learn.get_preds(dl=test_dl)"
   ]
  },
  {
   "cell_type": "code",
   "execution_count": 9,
   "id": "dfdad0bc-d3ed-40cd-96a4-238ce4ae5081",
   "metadata": {},
   "outputs": [],
   "source": [
    "fastai_results = pd.DataFrame(columns=['LOCAL_FILE_PATH', 'FASTAI_PRED'])\n",
    "for i in range(0, len(test_files)):\n",
    "    test_file = test_files[i]\n",
    "    pred = torch.argmax(preds[0][i]).item()\n",
    "    fastai_results = fastai_results.append({'LOCAL_FILE_PATH': test_file, 'FASTAI_PRED': pred}, ignore_index=True)"
   ]
  },
  {
   "cell_type": "code",
   "execution_count": 10,
   "id": "2006a41a-ec60-4816-9c57-9e5479c37262",
   "metadata": {},
   "outputs": [],
   "source": [
    "fastai_results.to_csv('./fastai_test_results.csv', index=False)"
   ]
  },
  {
   "cell_type": "code",
   "execution_count": null,
   "id": "ad84d5d9-28d6-4b5c-8caa-e1ca3266e809",
   "metadata": {},
   "outputs": [],
   "source": []
  }
 ],
 "metadata": {
  "environment": {
   "kernel": "conda-root-py",
   "name": "pytorch-gpu.1-10.m89",
   "type": "gcloud",
   "uri": "gcr.io/deeplearning-platform-release/pytorch-gpu.1-10:m89"
  },
  "kernelspec": {
   "display_name": "Python [conda env:root] *",
   "language": "python",
   "name": "conda-root-py"
  },
  "language_info": {
   "codemirror_mode": {
    "name": "ipython",
    "version": 3
   },
   "file_extension": ".py",
   "mimetype": "text/x-python",
   "name": "python",
   "nbconvert_exporter": "python",
   "pygments_lexer": "ipython3",
   "version": "3.7.12"
  }
 },
 "nbformat": 4,
 "nbformat_minor": 5
}
