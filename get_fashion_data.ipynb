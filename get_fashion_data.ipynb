{
 "cells": [
  {
   "cell_type": "code",
   "execution_count": 1,
   "id": "8fe9bcce-6b49-4087-9b0e-b47df6b14389",
   "metadata": {},
   "outputs": [
    {
     "name": "stdout",
     "output_type": "stream",
     "text": [
      "Collecting package metadata (current_repodata.json): done\n",
      "Solving environment: done\n",
      "\n",
      "## Package Plan ##\n",
      "\n",
      "  environment location: /opt/conda\n",
      "\n",
      "  added / updated specs:\n",
      "    - jupyterlab_widgets\n",
      "\n",
      "\n",
      "The following packages will be downloaded:\n",
      "\n",
      "    package                    |            build\n",
      "    ---------------------------|-----------------\n",
      "    jupyterlab_widgets-1.0.2   |     pyhd8ed1ab_0         130 KB  conda-forge\n",
      "    ------------------------------------------------------------\n",
      "                                           Total:         130 KB\n",
      "\n",
      "The following NEW packages will be INSTALLED:\n",
      "\n",
      "  jupyterlab_widgets conda-forge/noarch::jupyterlab_widgets-1.0.2-pyhd8ed1ab_0\n",
      "\n",
      "\n",
      "\n",
      "Downloading and Extracting Packages\n",
      "jupyterlab_widgets-1 | 130 KB    | ##################################### | 100% \n",
      "Preparing transaction: done\n",
      "Verifying transaction: done\n",
      "Executing transaction: done\n",
      "Collecting package metadata (current_repodata.json): done\n",
      "Solving environment: done\n",
      "\n",
      "## Package Plan ##\n",
      "\n",
      "  environment location: /opt/conda\n",
      "\n",
      "  added / updated specs:\n",
      "    - ipywidgets\n",
      "\n",
      "\n",
      "The following packages will be downloaded:\n",
      "\n",
      "    package                    |            build\n",
      "    ---------------------------|-----------------\n",
      "    ipywidgets-7.6.5           |     pyhd8ed1ab_0         101 KB  conda-forge\n",
      "    widgetsnbextension-3.5.2   |   py37h89c1867_1         1.3 MB  conda-forge\n",
      "    ------------------------------------------------------------\n",
      "                                           Total:         1.4 MB\n",
      "\n",
      "The following NEW packages will be INSTALLED:\n",
      "\n",
      "  ipywidgets         conda-forge/noarch::ipywidgets-7.6.5-pyhd8ed1ab_0\n",
      "  widgetsnbextension conda-forge/linux-64::widgetsnbextension-3.5.2-py37h89c1867_1\n",
      "\n",
      "\n",
      "\n",
      "Downloading and Extracting Packages\n",
      "widgetsnbextension-3 | 1.3 MB    | ##################################### | 100% \n",
      "ipywidgets-7.6.5     | 101 KB    | ##################################### | 100% \n",
      "Preparing transaction: done\n",
      "Verifying transaction: done\n",
      "Executing transaction: - Config option `kernel_spec_manager_class` not recognized by `EnableNBExtensionApp`.\n",
      "Enabling notebook extension jupyter-js-widgets/extension...\n",
      "      - Validating: \u001b[32mOK\u001b[0m\n",
      "404 Client Error: Not Found for url: http://metadata/computeMetadata/v1/instance/attributes/use-collaborative\n",
      "\n",
      "done\n"
     ]
    }
   ],
   "source": [
    "!conda install -y -c conda-forge jupyterlab_widgets\n",
    "!conda install -y -c conda-forge ipywidgets"
   ]
  },
  {
   "cell_type": "code",
   "execution_count": 2,
   "id": "dc61580a-7149-492a-9e5a-83632b6470a9",
   "metadata": {},
   "outputs": [],
   "source": [
    "import os\n",
    "import torch\n",
    "import torchvision\n",
    "import pandas as pd\n",
    "from google.cloud import storage"
   ]
  },
  {
   "cell_type": "code",
   "execution_count": 3,
   "id": "349ee8c5-1ce7-4cef-90d4-0652ef9e18ff",
   "metadata": {},
   "outputs": [],
   "source": [
    "# create a storage bucket\n",
    "client = storage.Client()\n",
    "bucket = client.bucket('cv-with-jake-fashionmnist')\n",
    "bucket.create(location='us-central1')"
   ]
  },
  {
   "cell_type": "code",
   "execution_count": 4,
   "id": "7c301e83-0bf5-4b80-9ac1-3dcaee7352d3",
   "metadata": {},
   "outputs": [
    {
     "name": "stdout",
     "output_type": "stream",
     "text": [
      "Downloading http://fashion-mnist.s3-website.eu-central-1.amazonaws.com/train-images-idx3-ubyte.gz\n",
      "Downloading http://fashion-mnist.s3-website.eu-central-1.amazonaws.com/train-images-idx3-ubyte.gz to ./data/FashionMNIST/raw/train-images-idx3-ubyte.gz\n"
     ]
    },
    {
     "data": {
      "application/vnd.jupyter.widget-view+json": {
       "model_id": "084996cfd8d541098943dbe060650a5e",
       "version_major": 2,
       "version_minor": 0
      },
      "text/plain": [
       "  0%|          | 0/26421880 [00:00<?, ?it/s]"
      ]
     },
     "metadata": {},
     "output_type": "display_data"
    },
    {
     "name": "stdout",
     "output_type": "stream",
     "text": [
      "Extracting ./data/FashionMNIST/raw/train-images-idx3-ubyte.gz to ./data/FashionMNIST/raw\n",
      "\n",
      "Downloading http://fashion-mnist.s3-website.eu-central-1.amazonaws.com/train-labels-idx1-ubyte.gz\n",
      "Downloading http://fashion-mnist.s3-website.eu-central-1.amazonaws.com/train-labels-idx1-ubyte.gz to ./data/FashionMNIST/raw/train-labels-idx1-ubyte.gz\n"
     ]
    },
    {
     "data": {
      "application/vnd.jupyter.widget-view+json": {
       "model_id": "76fd2c2474db48d6ba1baa5c9e103796",
       "version_major": 2,
       "version_minor": 0
      },
      "text/plain": [
       "  0%|          | 0/29515 [00:00<?, ?it/s]"
      ]
     },
     "metadata": {},
     "output_type": "display_data"
    },
    {
     "name": "stdout",
     "output_type": "stream",
     "text": [
      "Extracting ./data/FashionMNIST/raw/train-labels-idx1-ubyte.gz to ./data/FashionMNIST/raw\n",
      "\n",
      "Downloading http://fashion-mnist.s3-website.eu-central-1.amazonaws.com/t10k-images-idx3-ubyte.gz\n",
      "Downloading http://fashion-mnist.s3-website.eu-central-1.amazonaws.com/t10k-images-idx3-ubyte.gz to ./data/FashionMNIST/raw/t10k-images-idx3-ubyte.gz\n"
     ]
    },
    {
     "data": {
      "application/vnd.jupyter.widget-view+json": {
       "model_id": "05511fe9bfd34616a74abc6817b1a412",
       "version_major": 2,
       "version_minor": 0
      },
      "text/plain": [
       "  0%|          | 0/4422102 [00:00<?, ?it/s]"
      ]
     },
     "metadata": {},
     "output_type": "display_data"
    },
    {
     "name": "stdout",
     "output_type": "stream",
     "text": [
      "Extracting ./data/FashionMNIST/raw/t10k-images-idx3-ubyte.gz to ./data/FashionMNIST/raw\n",
      "\n",
      "Downloading http://fashion-mnist.s3-website.eu-central-1.amazonaws.com/t10k-labels-idx1-ubyte.gz\n",
      "Downloading http://fashion-mnist.s3-website.eu-central-1.amazonaws.com/t10k-labels-idx1-ubyte.gz to ./data/FashionMNIST/raw/t10k-labels-idx1-ubyte.gz\n"
     ]
    },
    {
     "data": {
      "application/vnd.jupyter.widget-view+json": {
       "model_id": "3f0b1a6dc96d4a2da1b931cdb746ea63",
       "version_major": 2,
       "version_minor": 0
      },
      "text/plain": [
       "  0%|          | 0/5148 [00:00<?, ?it/s]"
      ]
     },
     "metadata": {},
     "output_type": "display_data"
    },
    {
     "name": "stdout",
     "output_type": "stream",
     "text": [
      "Extracting ./data/FashionMNIST/raw/t10k-labels-idx1-ubyte.gz to ./data/FashionMNIST/raw\n",
      "\n"
     ]
    }
   ],
   "source": [
    "# download data\n",
    "fashion_train = torchvision.datasets.FashionMNIST(root='./data', train=True, download=True)\n",
    "fashion_test = torchvision.datasets.FashionMNIST(root='./data', train=False, download=True)"
   ]
  },
  {
   "cell_type": "code",
   "execution_count": 5,
   "id": "4bd83294-faf4-479d-88e3-e1e7fbb69815",
   "metadata": {},
   "outputs": [],
   "source": [
    "if not os.path.exists('./data/FashionMNIST/train'):\n",
    "    os.mkdir('./data/FashionMNIST/train')\n",
    "\n",
    "if not os.path.exists('./data/FashionMNIST/test'):\n",
    "    os.mkdir('./data/FashionMNIST/test')"
   ]
  },
  {
   "cell_type": "code",
   "execution_count": 6,
   "id": "5b050dac-2b7f-43b4-9f50-1269d955764c",
   "metadata": {},
   "outputs": [],
   "source": [
    "automl_label_df = pd.DataFrame(columns=[\"ML_USE\", \"GCS_FILE_PATH\", \"LABEL\"])\n",
    "train_df = pd.DataFrame(columns=[\"LOCAL_FILE_PATH\", \"LABEL\", \"GCS_FILE_PATH\"])\n",
    "test_df = pd.DataFrame(columns=[\"LOCAL_FILE_PATH\", \"LABEL\", \"GCS_FILE_PATH\"])"
   ]
  },
  {
   "cell_type": "code",
   "execution_count": 7,
   "id": "24e11d77-58ee-4a91-bee7-758f4e21380a",
   "metadata": {},
   "outputs": [],
   "source": [
    "GCS_TRAIN_PATH = 'gs://cv-with-jake-fashionmnist/train'\n",
    "BASE_TRAIN_PATH = './data/FashionMNIST/train'\n",
    "for i in range(0, len(fashion_train)):\n",
    "    photo_name = f'img_{i}.jpg'\n",
    "    item = fashion_train[i]\n",
    "    photo = item[0]\n",
    "    label = item[1]\n",
    "    automl_label_df = automl_label_df.append({'ML_USE': 'UNASSIGNED', 'GCS_FILE_PATH': f'{GCS_TRAIN_PATH}/{photo_name}', 'LABEL': label}, ignore_index=True)\n",
    "    train_df = train_df.append({'LOCAL_FILE_PATH': f'{BASE_TRAIN_PATH}/{photo_name}', 'LABEL': label, 'GCS_FILE_PATH': f'{GCS_TRAIN_PATH}/{photo_name}'}, ignore_index=True)\n",
    "    photo.save(f'{BASE_TRAIN_PATH}/{photo_name}')"
   ]
  },
  {
   "cell_type": "code",
   "execution_count": 8,
   "id": "a967c448-2271-483f-a323-1b601974ffe3",
   "metadata": {},
   "outputs": [],
   "source": [
    "train_df.to_csv('./train_files.csv', index=False)"
   ]
  },
  {
   "cell_type": "code",
   "execution_count": 9,
   "id": "6d34d371-1fb3-491e-b021-fae09318dbee",
   "metadata": {},
   "outputs": [],
   "source": [
    "GCS_TEST_PATH = 'gs://cv-with-jake-fashionmnist/test'\n",
    "BASE_TEST_PATH = './data/FashionMNIST/test'\n",
    "for i in range(0, len(fashion_test)):\n",
    "    photo_name = f'img_{i}.jpg'\n",
    "    item = fashion_test[i]\n",
    "    photo = item[0]\n",
    "    label = item[1]\n",
    "    automl_label_df = automl_label_df.append({'ML_USE': 'TEST', 'GCS_FILE_PATH': f'{GCS_TEST_PATH}/{photo_name}', 'LABEL': label}, ignore_index=True)\n",
    "    test_df = test_df.append({'LOCAL_FILE_PATH': f'{BASE_TEST_PATH}/{photo_name}', 'LABEL': label, 'GCS_FILE_PATH': f'{GCS_TEST_PATH}/{photo_name}'}, ignore_index=True)\n",
    "    photo.save(f'{BASE_TEST_PATH}/{photo_name}')"
   ]
  },
  {
   "cell_type": "code",
   "execution_count": 10,
   "id": "3ce2444c-44c3-4fbc-bbc1-1224c505b7b5",
   "metadata": {},
   "outputs": [],
   "source": [
    "test_df.to_csv('./test_files.csv', index=False)"
   ]
  },
  {
   "cell_type": "code",
   "execution_count": 11,
   "id": "71650d6e-520e-4309-be93-af2de59ea225",
   "metadata": {},
   "outputs": [],
   "source": [
    "!gsutil -m -q cp -r ./data/FashionMNIST/train gs://cv-with-jake-fashionmnist\n",
    "!gsutil -m -q cp -r ./data/FashionMNIST/test gs://cv-with-jake-fashionmnist"
   ]
  },
  {
   "cell_type": "code",
   "execution_count": 12,
   "id": "aee77f66-7e2d-43cf-b7c4-b5771cbd44b7",
   "metadata": {},
   "outputs": [],
   "source": [
    "automl_label_df.to_csv('./automl_file_list.csv', index=False, header=False)"
   ]
  },
  {
   "cell_type": "code",
   "execution_count": 13,
   "id": "92bb72c9-7762-457c-94c8-f6b53e0b9f4f",
   "metadata": {},
   "outputs": [
    {
     "name": "stdout",
     "output_type": "stream",
     "text": [
      "Copying file://./automl_file_list.csv [Content-Type=text/csv]...\n",
      "/ [1 files][  4.2 MiB/  4.2 MiB]                                                \n",
      "Operation completed over 1 objects/4.2 MiB.                                      \n"
     ]
    }
   ],
   "source": [
    "!gsutil cp ./automl_file_list.csv gs://cv-with-jake-fashionmnist/automl_file_list.csv"
   ]
  },
  {
   "cell_type": "code",
   "execution_count": 14,
   "id": "1b8a5d56-0a24-4c4c-a331-22acaaf97314",
   "metadata": {},
   "outputs": [],
   "source": [
    "test_files_df = test_df.copy()\n",
    "test_files_df['content'] = test_files_df['GCS_FILE_PATH']\n",
    "test_files_df['mimeType'] = 'image/jpeg'\n",
    "test_files_df = test_files_df[['content', 'mimeType']]\n",
    "test_files_df.to_json('./automl_test_list.jsonl', lines=True, orient='records')"
   ]
  },
  {
   "cell_type": "code",
   "execution_count": 15,
   "id": "120607f5-13be-4d9d-98d4-ec3d08d6877f",
   "metadata": {},
   "outputs": [
    {
     "name": "stdout",
     "output_type": "stream",
     "text": [
      "Copying file://./automl_test_list.jsonl [Content-Type=application/octet-stream]...\n",
      "/ [1 files][897.4 KiB/897.4 KiB]                                                \n",
      "Operation completed over 1 objects/897.4 KiB.                                    \n"
     ]
    }
   ],
   "source": [
    "!gsutil cp ./automl_test_list.jsonl gs://cv-with-jake-fashionmnist/automl_test_list.jsonl"
   ]
  },
  {
   "cell_type": "code",
   "execution_count": null,
   "id": "4e521b72-01e3-4b82-bbbc-57c3147b1661",
   "metadata": {},
   "outputs": [],
   "source": []
  }
 ],
 "metadata": {
  "environment": {
   "kernel": "conda-root-py",
   "name": "pytorch-gpu.1-10.m89",
   "type": "gcloud",
   "uri": "gcr.io/deeplearning-platform-release/pytorch-gpu.1-10:m89"
  },
  "kernelspec": {
   "display_name": "Python [conda env:root] *",
   "language": "python",
   "name": "conda-root-py"
  },
  "language_info": {
   "codemirror_mode": {
    "name": "ipython",
    "version": 3
   },
   "file_extension": ".py",
   "mimetype": "text/x-python",
   "name": "python",
   "nbconvert_exporter": "python",
   "pygments_lexer": "ipython3",
   "version": "3.7.12"
  }
 },
 "nbformat": 4,
 "nbformat_minor": 5
}
