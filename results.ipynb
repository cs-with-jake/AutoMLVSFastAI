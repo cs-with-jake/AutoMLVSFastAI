{
 "cells": [
  {
   "cell_type": "code",
   "execution_count": 1,
   "id": "ecb0d746-b3c6-48ba-a6f4-9a55314dec53",
   "metadata": {},
   "outputs": [],
   "source": [
    "import numpy as np\n",
    "import pandas as pd\n",
    "from google.cloud import storage\n",
    "from sklearn.metrics import classification_report"
   ]
  },
  {
   "cell_type": "code",
   "execution_count": 2,
   "id": "b3a67ddc-93c4-4b52-aaf6-eec64d9769ea",
   "metadata": {},
   "outputs": [],
   "source": [
    "class_names = [\n",
    "    \"T-shirt/top\",\n",
    "    \"Trouser\",\n",
    "    \"Pullover\",\n",
    "    \"Dress\",\n",
    "    \"Coat\",\n",
    "    \"Sandal\",\n",
    "    \"Shirt\",\n",
    "    \"Sneaker\",\n",
    "    \"Bag\",\n",
    "    \"Ankle boot\"\n",
    "]"
   ]
  },
  {
   "cell_type": "code",
   "execution_count": 3,
   "id": "b0f10f70-02f8-47d6-8fdc-408a48ddd519",
   "metadata": {},
   "outputs": [],
   "source": [
    "test_files_df = pd.read_csv('./test_files.csv')\n",
    "fastai_df = pd.read_csv('fastai_test_results.csv')\n",
    "test_files_df = test_files_df.merge(fastai_df, on='LOCAL_FILE_PATH')"
   ]
  },
  {
   "cell_type": "code",
   "execution_count": 4,
   "id": "79245ff8-fe19-46f5-a250-495ccdf1973a",
   "metadata": {},
   "outputs": [],
   "source": [
    "client = storage.Client()\n",
    "automl_df = pd.DataFrame()\n",
    "for blob in client.list_blobs('cv-with-jake-fashionmnist', prefix='automl_results/prediction-fashion_mnist_eval-2022-03-01T05:59:11.082931Z'):\n",
    "    file_name = f'gs://cv-with-jake-fashionmnist/{blob.name}'\n",
    "    automl_df = pd.concat([automl_df, pd.read_json(file_name, lines=True)])"
   ]
  },
  {
   "cell_type": "code",
   "execution_count": 5,
   "id": "0962f0c6-2f0a-4be1-947d-bde4b8abf31e",
   "metadata": {},
   "outputs": [],
   "source": [
    "automl_df['AUTOML_PRED'] = automl_df['prediction'].apply(lambda x: x['displayNames'][0])\n",
    "automl_df['AUTOML_PRED'] = pd.to_numeric(automl_df['AUTOML_PRED'])"
   ]
  },
  {
   "cell_type": "code",
   "execution_count": 6,
   "id": "7f0522dd-2e94-4ce2-b352-3ffe1fa2caaf",
   "metadata": {},
   "outputs": [],
   "source": [
    "automl_df['GCS_FILE_PATH'] = automl_df['instance'].apply(lambda x: x['content'])"
   ]
  },
  {
   "cell_type": "code",
   "execution_count": 7,
   "id": "f34f3f53-e9df-4cf5-a424-b78a536794d6",
   "metadata": {},
   "outputs": [],
   "source": [
    "automl_df = automl_df[['AUTOML_PRED', 'GCS_FILE_PATH']]"
   ]
  },
  {
   "cell_type": "code",
   "execution_count": 8,
   "id": "1f24b836-5477-499f-b300-e10acda11a4b",
   "metadata": {},
   "outputs": [
    {
     "data": {
      "text/html": [
       "<div>\n",
       "<style scoped>\n",
       "    .dataframe tbody tr th:only-of-type {\n",
       "        vertical-align: middle;\n",
       "    }\n",
       "\n",
       "    .dataframe tbody tr th {\n",
       "        vertical-align: top;\n",
       "    }\n",
       "\n",
       "    .dataframe thead th {\n",
       "        text-align: right;\n",
       "    }\n",
       "</style>\n",
       "<table border=\"1\" class=\"dataframe\">\n",
       "  <thead>\n",
       "    <tr style=\"text-align: right;\">\n",
       "      <th></th>\n",
       "      <th>AUTOML_PRED</th>\n",
       "      <th>GCS_FILE_PATH</th>\n",
       "    </tr>\n",
       "  </thead>\n",
       "  <tbody>\n",
       "    <tr>\n",
       "      <th>0</th>\n",
       "      <td>4</td>\n",
       "      <td>gs://cv-with-jake-fashionmnist/test/img_6700.jpg</td>\n",
       "    </tr>\n",
       "    <tr>\n",
       "      <th>1</th>\n",
       "      <td>7</td>\n",
       "      <td>gs://cv-with-jake-fashionmnist/test/img_4284.jpg</td>\n",
       "    </tr>\n",
       "    <tr>\n",
       "      <th>2</th>\n",
       "      <td>1</td>\n",
       "      <td>gs://cv-with-jake-fashionmnist/test/img_517.jpg</td>\n",
       "    </tr>\n",
       "    <tr>\n",
       "      <th>3</th>\n",
       "      <td>7</td>\n",
       "      <td>gs://cv-with-jake-fashionmnist/test/img_7772.jpg</td>\n",
       "    </tr>\n",
       "    <tr>\n",
       "      <th>4</th>\n",
       "      <td>8</td>\n",
       "      <td>gs://cv-with-jake-fashionmnist/test/img_2696.jpg</td>\n",
       "    </tr>\n",
       "  </tbody>\n",
       "</table>\n",
       "</div>"
      ],
      "text/plain": [
       "   AUTOML_PRED                                     GCS_FILE_PATH\n",
       "0            4  gs://cv-with-jake-fashionmnist/test/img_6700.jpg\n",
       "1            7  gs://cv-with-jake-fashionmnist/test/img_4284.jpg\n",
       "2            1   gs://cv-with-jake-fashionmnist/test/img_517.jpg\n",
       "3            7  gs://cv-with-jake-fashionmnist/test/img_7772.jpg\n",
       "4            8  gs://cv-with-jake-fashionmnist/test/img_2696.jpg"
      ]
     },
     "execution_count": 8,
     "metadata": {},
     "output_type": "execute_result"
    }
   ],
   "source": [
    "automl_df.head()"
   ]
  },
  {
   "cell_type": "code",
   "execution_count": 9,
   "id": "de2a7bd2-d752-432d-bdaf-17738da6cfb3",
   "metadata": {},
   "outputs": [],
   "source": [
    "test_files_df = test_files_df.merge(automl_df, on='GCS_FILE_PATH')"
   ]
  },
  {
   "cell_type": "code",
   "execution_count": 10,
   "id": "a01f3eb2-0a69-46ee-af4f-7588ac17ec2f",
   "metadata": {},
   "outputs": [],
   "source": [
    "automl_preds = test_files_df['AUTOML_PRED']\n",
    "fastai_preds = test_files_df['FASTAI_PRED']\n",
    "labels = test_files_df['LABEL']"
   ]
  },
  {
   "cell_type": "code",
   "execution_count": 11,
   "id": "866630ce-1933-4ee6-8ead-fb194f587854",
   "metadata": {},
   "outputs": [],
   "source": [
    "# generate automl report\n",
    "automl_report = classification_report(automl_preds, labels, digits=4, target_names=class_names)"
   ]
  },
  {
   "cell_type": "code",
   "execution_count": 12,
   "id": "6cb35f49-7b39-4770-8942-8112a1e79120",
   "metadata": {},
   "outputs": [],
   "source": [
    "fastai_report = classification_report(fastai_preds, labels, digits=4, target_names=class_names)"
   ]
  },
  {
   "cell_type": "code",
   "execution_count": 13,
   "id": "fa41d0c7-234a-4360-95cb-e27cb0cd8bbe",
   "metadata": {},
   "outputs": [
    {
     "name": "stdout",
     "output_type": "stream",
     "text": [
      "              precision    recall  f1-score   support\n",
      "\n",
      " T-shirt/top     0.9110    0.8514    0.8802      1070\n",
      "     Trouser     0.9820    0.9980    0.9899       984\n",
      "    Pullover     0.8470    0.8851    0.8656       957\n",
      "       Dress     0.9130    0.9157    0.9144       997\n",
      "        Coat     0.8750    0.8124    0.8426      1077\n",
      "      Sandal     0.9480    0.9875    0.9673       960\n",
      "       Shirt     0.6980    0.7670    0.7309       910\n",
      "     Sneaker     0.9840    0.9094    0.9452      1082\n",
      "         Bag     0.9920    0.9880    0.9900      1004\n",
      "  Ankle boot     0.9440    0.9844    0.9638       959\n",
      "\n",
      "    accuracy                         0.9094     10000\n",
      "   macro avg     0.9094    0.9099    0.9090     10000\n",
      "weighted avg     0.9115    0.9094    0.9098     10000\n",
      "\n"
     ]
    }
   ],
   "source": [
    "print(automl_report)"
   ]
  },
  {
   "cell_type": "code",
   "execution_count": 14,
   "id": "77b99f90-cdcd-47d5-bc18-5270a32877e5",
   "metadata": {},
   "outputs": [
    {
     "name": "stdout",
     "output_type": "stream",
     "text": [
      "              precision    recall  f1-score   support\n",
      "\n",
      " T-shirt/top     0.8800    0.8653    0.8726      1017\n",
      "     Trouser     0.9930    0.9910    0.9920      1002\n",
      "    Pullover     0.8910    0.8787    0.8848      1014\n",
      "       Dress     0.9200    0.9455    0.9326       973\n",
      "        Coat     0.8910    0.8559    0.8731      1041\n",
      "      Sandal     0.9850    0.9830    0.9840      1002\n",
      "       Shirt     0.7570    0.8002    0.7780       946\n",
      "     Sneaker     0.9690    0.9556    0.9623      1014\n",
      "         Bag     0.9870    0.9840    0.9855      1003\n",
      "  Ankle boot     0.9660    0.9777    0.9718       988\n",
      "\n",
      "    accuracy                         0.9239     10000\n",
      "   macro avg     0.9239    0.9237    0.9237     10000\n",
      "weighted avg     0.9246    0.9239    0.9241     10000\n",
      "\n"
     ]
    }
   ],
   "source": [
    "print(fastai_report)"
   ]
  },
  {
   "cell_type": "code",
   "execution_count": null,
   "id": "197a0919-2848-41fa-99c6-1628433e42f0",
   "metadata": {},
   "outputs": [],
   "source": []
  }
 ],
 "metadata": {
  "environment": {
   "kernel": "conda-root-py",
   "name": "pytorch-gpu.1-10.m89",
   "type": "gcloud",
   "uri": "gcr.io/deeplearning-platform-release/pytorch-gpu.1-10:m89"
  },
  "kernelspec": {
   "display_name": "Python [conda env:root] *",
   "language": "python",
   "name": "conda-root-py"
  },
  "language_info": {
   "codemirror_mode": {
    "name": "ipython",
    "version": 3
   },
   "file_extension": ".py",
   "mimetype": "text/x-python",
   "name": "python",
   "nbconvert_exporter": "python",
   "pygments_lexer": "ipython3",
   "version": "3.7.12"
  }
 },
 "nbformat": 4,
 "nbformat_minor": 5
}
